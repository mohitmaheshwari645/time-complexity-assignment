{
 "cells": [
  {
   "cell_type": "markdown",
   "id": "7b1877e0-42bb-466d-a027-40cb3996f9e7",
   "metadata": {},
   "source": [
    "Problem 1 :\n",
    "def quicksort(arr):\n",
    "if len(arr) <= 1:\n",
    "return arr\n",
    "pivot = arr[len(arr) // 2]\n",
    "left = [x for x in arr if x < pivot]\n",
    "middle = [x for x in arr if x == pivot]\n",
    "right = [x for x in arr if x > pivot]\n",
    "return quicksort(left) + middle + quicksort(right)"
   ]
  },
  {
   "cell_type": "markdown",
   "id": "9cfb2733-c8d0-43d4-ab22-0991590e35dc",
   "metadata": {},
   "source": [
    "It looks like you've provided a Python implementation of the quicksort algorithm. However, it seems that there's an indentation issue, and the code is not properly formatted. Here is the corrected version:"
   ]
  },
  {
   "cell_type": "code",
   "execution_count": 1,
   "id": "2824cb36-bc44-4d58-8628-79c457e5e2ed",
   "metadata": {},
   "outputs": [],
   "source": [
    "def quicksort(arr):\n",
    "    if len(arr) <= 1:\n",
    "        return arr\n",
    "    pivot = arr[len(arr) // 2]\n",
    "    left = [x for x in arr if x < pivot]\n",
    "    middle = [x for x in arr if x == pivot]\n",
    "    right = [x for x in arr if x > pivot]\n",
    "    return quicksort(left) + middle + quicksort(right)\n"
   ]
  },
  {
   "cell_type": "markdown",
   "id": "7f0a64ba-1750-4182-8d38-848a42ad214e",
   "metadata": {},
   "source": [
    "Now, the code is properly indented, making it syntactically correct. You can use this function to sort a list using the quicksort algorithm by calling quicksort(your_list)."
   ]
  },
  {
   "cell_type": "markdown",
   "id": "83295533-e2e3-449e-9a39-ef47d7d14820",
   "metadata": {},
   "source": [
    "Problem 2 :\n",
    "def nested_loop_example(matrix):\n",
    "rows, cols = len(matrix), len(matrix[0])\n",
    "total = 0\n",
    "for i in range(rows):\n",
    "for j in range(cols):\n",
    "total += matrix[i][j]\n",
    "return total"
   ]
  },
  {
   "cell_type": "markdown",
   "id": "aaf16687-353c-44f7-8294-3d7cd4bf9571",
   "metadata": {},
   "source": [
    "\n",
    "It seems there is an indentation issue in your code. Python relies on proper indentation to define blocks of code. Here's the corrected version:"
   ]
  },
  {
   "cell_type": "code",
   "execution_count": 2,
   "id": "475221b9-11bf-47b9-8f40-39751f7c8533",
   "metadata": {},
   "outputs": [],
   "source": [
    "def nested_loop_example(matrix):\n",
    "    rows, cols = len(matrix), len(matrix[0])\n",
    "    total = 0\n",
    "    for i in range(rows):\n",
    "        for j in range(cols):\n",
    "            total += matrix[i][j]\n",
    "    return total\n"
   ]
  },
  {
   "cell_type": "markdown",
   "id": "a5e6ef3f-5dc0-4f92-be8e-4aa78930ab67",
   "metadata": {},
   "source": [
    "Now, the nested loops are correctly indented, and the code should work as intended. This function calculates the sum of all elements in a 2D matrix by iterating through each element using nested loops."
   ]
  },
  {
   "cell_type": "markdown",
   "id": "59b09b3d-50af-4b04-b718-70b5e27f0421",
   "metadata": {},
   "source": [
    "Problem 3 :\n",
    "def example_function(arr):\n",
    "result = 0\n",
    "for element in arr:\n",
    "result += element\n",
    "return result"
   ]
  },
  {
   "cell_type": "markdown",
   "id": "f97fc5c8-8475-4be4-bf46-a551302b86df",
   "metadata": {},
   "source": [
    "Your provided code appears to be correctly formatted. This function example_function iterates through each element in the given array and calculates the sum of all elements, returning the result.\n",
    "\n",
    "Here's the code for reference:"
   ]
  },
  {
   "cell_type": "code",
   "execution_count": 3,
   "id": "3f5a47a3-66a9-4c4b-acbb-17e298fe2aa3",
   "metadata": {},
   "outputs": [],
   "source": [
    "def example_function(arr):\n",
    "    result = 0\n",
    "    for element in arr:\n",
    "        result += element\n",
    "    return result\n"
   ]
  },
  {
   "cell_type": "markdown",
   "id": "ce564ffb-ef51-4529-b18c-e14a370af26a",
   "metadata": {},
   "source": [
    "You can use this function by passing an array to it, and it will return the sum of all elements in that array. For example:"
   ]
  },
  {
   "cell_type": "code",
   "execution_count": 4,
   "id": "e38ef5a8-3a32-4d57-bc78-f7073cad88a5",
   "metadata": {},
   "outputs": [
    {
     "name": "stdout",
     "output_type": "stream",
     "text": [
      "15\n"
     ]
    }
   ],
   "source": [
    "my_array = [1, 2, 3, 4, 5]\n",
    "result = example_function(my_array)\n",
    "print(result)\n",
    "# Output: 15\n"
   ]
  },
  {
   "cell_type": "markdown",
   "id": "f9675f73-ebd4-491b-bdc3-839a89dd51e3",
   "metadata": {},
   "source": [
    "Problem 4 :\n",
    "def longest_increasing_subsequence(nums):\n",
    "n = len(nums)\n",
    "lis = [1] * n\n",
    "for i in range(1, n):\n",
    "for j in range(0, i):\n",
    "if nums[i] > nums[j] and lis[i] < lis[j] + 1:\n",
    "lis[i] = lis[j] + 1\n",
    "return max(lis)"
   ]
  },
  {
   "cell_type": "markdown",
   "id": "7d360900-3983-4a8c-b0bd-e3ec662f8fa4",
   "metadata": {},
   "source": [
    "Your provided code seems to be implementing the dynamic programming approach for finding the length of the Longest Increasing Subsequence (LIS) in an array. However, there is a small indentation issue, and the return statement is not properly aligned with the outer loop. Here's the corrected version:"
   ]
  },
  {
   "cell_type": "code",
   "execution_count": 5,
   "id": "3d0f080d-cdc9-46d2-a3b4-633eaa88def0",
   "metadata": {},
   "outputs": [],
   "source": [
    "def longest_increasing_subsequence(nums):\n",
    "    n = len(nums)\n",
    "    lis = [1] * n\n",
    "    \n",
    "    for i in range(1, n):\n",
    "        for j in range(0, i):\n",
    "            if nums[i] > nums[j] and lis[i] < lis[j] + 1:\n",
    "                lis[i] = lis[j] + 1\n",
    "    \n",
    "    return max(lis)\n"
   ]
  },
  {
   "cell_type": "markdown",
   "id": "bc490dbd-815c-43f4-8564-29f44cecedba",
   "metadata": {},
   "source": [
    "Now, the code is properly formatted, and you can use this function by passing a list of numbers to it. It will return the length of the longest increasing subsequence in that list."
   ]
  },
  {
   "cell_type": "markdown",
   "id": "f8863f23-c1cf-4638-957e-4ec5fbe3e222",
   "metadata": {},
   "source": [
    "Problem 5 :\n",
    "def mysterious_function(arr):\n",
    "n = len(arr)\n",
    "result = 0\n",
    "for i in range(n):\n",
    "for j in range(i, n):\n",
    "result += arr[i] * arr[j]\n",
    "return result"
   ]
  },
  {
   "cell_type": "markdown",
   "id": "0ec013a9-de0b-4667-9173-c3519d794e7e",
   "metadata": {},
   "source": [
    "\n",
    "The provided code defines a function called mysterious_function that takes an array as input and calculates the sum of the product of each pair of elements in the array. However, there is an indentation issue in the code. Here's the corrected version:"
   ]
  },
  {
   "cell_type": "code",
   "execution_count": 6,
   "id": "e4fff5c9-ea66-4abe-ae20-c5b894911ef1",
   "metadata": {},
   "outputs": [],
   "source": [
    "def mysterious_function(arr):\n",
    "    n = len(arr)\n",
    "    result = 0\n",
    "    for i in range(n):\n",
    "        for j in range(i, n):\n",
    "            result += arr[i] * arr[j]\n",
    "    return result\n"
   ]
  },
  {
   "cell_type": "markdown",
   "id": "ab2645ec-49b6-46a0-9c6e-32bed5cad264",
   "metadata": {},
   "source": [
    "Now, the code is properly formatted with correct indentation. You can use this function by passing an array to it, and it will return the sum of the product of each pair of elements in the array."
   ]
  },
  {
   "cell_type": "code",
   "execution_count": 7,
   "id": "9a3fcfda-4346-4a2f-a60d-9f62e30d4491",
   "metadata": {},
   "outputs": [],
   "source": [
    "#Solve the following problems on recursion"
   ]
  },
  {
   "cell_type": "markdown",
   "id": "4e7c4b10-1377-45f7-a4f1-9d991bc5b54e",
   "metadata": {},
   "source": [
    "Problem 6 : Sum of Digits\n",
    "Write a recursive function to calculate the sum of digits of a given positive integer.\n",
    "sum_of_digits(123) -> 6"
   ]
  },
  {
   "cell_type": "markdown",
   "id": "6261fd35-3f43-40b4-9084-c9b76b4f6c45",
   "metadata": {},
   "source": [
    "Certainly! Here's a recursive Python function to calculate the sum of digits of a given positive integer:"
   ]
  },
  {
   "cell_type": "code",
   "execution_count": 8,
   "id": "e5c72b18-f472-4da2-999e-b312c5eaa4c5",
   "metadata": {},
   "outputs": [
    {
     "name": "stdout",
     "output_type": "stream",
     "text": [
      "6\n"
     ]
    }
   ],
   "source": [
    "def sum_of_digits(n):\n",
    "    # Base case: if the number is a single digit\n",
    "    if n < 10:\n",
    "        return n\n",
    "    else:\n",
    "        # Recursive case: sum the last digit and the sum of digits of the remaining number\n",
    "        return n % 10 + sum_of_digits(n // 10)\n",
    "\n",
    "# Example usage:\n",
    "result = sum_of_digits(123)\n",
    "print(result)\n",
    "# Output: 6\n"
   ]
  },
  {
   "cell_type": "markdown",
   "id": "322b9350-41d2-470d-aa95-45a2e4db6944",
   "metadata": {},
   "source": [
    "This function checks if the given number is a single digit; if so, it returns the number itself. Otherwise, it adds the last digit to the sum of digits of the remaining number obtained by integer division. The recursion continues until the base case is reached."
   ]
  },
  {
   "cell_type": "markdown",
   "id": "3e9f8930-4b57-42fa-a437-1903b4e19894",
   "metadata": {},
   "source": [
    "Problem 7: Fibonacci Series\n",
    "Write a recursive function to generate the first n numbers of the Fibonacci series.\n",
    "fibonacci_series(6) -> [0, 1, 1, 2, 3, 5]"
   ]
  },
  {
   "cell_type": "markdown",
   "id": "ad5ce891-9cff-4420-ac24-9db4df17b9be",
   "metadata": {},
   "source": [
    "\n",
    "Certainly! Here's a recursive Python function to generate the first n numbers of the Fibonacci series:"
   ]
  },
  {
   "cell_type": "code",
   "execution_count": 9,
   "id": "2e29526b-a9a5-44f5-872c-1f9fb8b6ae0d",
   "metadata": {},
   "outputs": [
    {
     "name": "stdout",
     "output_type": "stream",
     "text": [
      "[0, 1, 1, 2, 3, 5]\n"
     ]
    }
   ],
   "source": [
    "def fibonacci_series(n):\n",
    "    if n <= 0:\n",
    "        return []\n",
    "    elif n == 1:\n",
    "        return [0]\n",
    "    elif n == 2:\n",
    "        return [0, 1]\n",
    "    else:\n",
    "        # Recursive case: generate the Fibonacci series up to n-1 and add the last two numbers\n",
    "        fib_series = fibonacci_series(n - 1)\n",
    "        fib_series.append(fib_series[-1] + fib_series[-2])\n",
    "        return fib_series\n",
    "\n",
    "# Example usage:\n",
    "result = fibonacci_series(6)\n",
    "print(result)\n",
    "# Output: [0, 1, 1, 2, 3, 5]\n"
   ]
  },
  {
   "cell_type": "markdown",
   "id": "e22fcdf1-86cb-489c-b591-372e384373a3",
   "metadata": {},
   "source": [
    "This function generates the Fibonacci series by recursively calling itself, adding the last two numbers to obtain the next one. The base cases handle scenarios where n is 0, 1, or 2 to return the appropriate initial series."
   ]
  },
  {
   "cell_type": "markdown",
   "id": "18b5c2d4-f244-452b-a4b3-d8105e6cafc0",
   "metadata": {},
   "source": [
    "Problem 8 : Subset Sum\n",
    "Given a set of positive integers and a target sum, write a recursive function to determine if there exists a subset\n",
    "of the integers that adds up to the target sum.\n",
    "subset_sum([3, 34, 4, 12, 5, 2], 9) -> True"
   ]
  },
  {
   "cell_type": "markdown",
   "id": "9707c9c2-8d6b-47df-a445-2d2fb8d7d658",
   "metadata": {},
   "source": [
    "\n",
    "Certainly! Here's a recursive Python function to determine if there exists a subset of positive integers that adds up to a given target sum:"
   ]
  },
  {
   "cell_type": "code",
   "execution_count": 10,
   "id": "5c873da4-a305-419f-9139-788dbb36539f",
   "metadata": {},
   "outputs": [
    {
     "name": "stdout",
     "output_type": "stream",
     "text": [
      "True\n"
     ]
    }
   ],
   "source": [
    "def subset_sum(nums, target_sum):\n",
    "    # Base cases\n",
    "    if target_sum == 0:\n",
    "        return True\n",
    "    if not nums or target_sum < 0:\n",
    "        return False\n",
    "    \n",
    "    # Recursive case: check if subset_sum is possible either by including or excluding the last element\n",
    "    return subset_sum(nums[:-1], target_sum) or subset_sum(nums[:-1], target_sum - nums[-1])\n",
    "\n",
    "# Example usage:\n",
    "result = subset_sum([3, 34, 4, 12, 5, 2], 9)\n",
    "print(result)\n",
    "# Output: True\n"
   ]
  },
  {
   "cell_type": "markdown",
   "id": "395121c8-b177-488c-8fca-823b128892bb",
   "metadata": {},
   "source": [
    "This function recursively checks if it's possible to achieve the target sum by either including or excluding the last element of the set. The base cases handle scenarios where the target sum becomes zero or negative or when there are no elements left in the set."
   ]
  },
  {
   "cell_type": "markdown",
   "id": "975e4cab-555d-4610-a5fe-0822d3bf23c0",
   "metadata": {},
   "source": [
    "Problem 9: Word Break\n",
    "Given a non-empty string and a dictionary of words, write a recursive function to determine if the string can be\n",
    "segmented into a space-separated sequence of dictionary words.\n",
    "word_break( leetcode , [ leet , code ]) -> True"
   ]
  },
  {
   "cell_type": "markdown",
   "id": "32041e17-866c-4b21-ab6f-9d87f8f10ca0",
   "metadata": {},
   "source": [
    "\n",
    "Certainly! Here's a recursive Python function to determine if a given string can be segmented into a space-separated sequence of words from a dictionary:"
   ]
  },
  {
   "cell_type": "code",
   "execution_count": 11,
   "id": "094a2456-b256-4bb2-aa35-ea4663e15cf4",
   "metadata": {},
   "outputs": [
    {
     "name": "stdout",
     "output_type": "stream",
     "text": [
      "True\n"
     ]
    }
   ],
   "source": [
    "def word_break(s, word_dict):\n",
    "    # Base case: an empty string can always be segmented\n",
    "    if not s:\n",
    "        return True\n",
    "    \n",
    "    for word in word_dict:\n",
    "        # Check if the current word is a prefix of the remaining string\n",
    "        if s.startswith(word):\n",
    "            # Recursively check the remaining string after removing the matched prefix\n",
    "            if word_break(s[len(word):], word_dict):\n",
    "                return True\n",
    "    \n",
    "    # If no matching prefix is found\n",
    "    return False\n",
    "\n",
    "# Example usage:\n",
    "result = word_break(\"leetcode\", [\"leet\", \"code\"])\n",
    "print(result)\n",
    "# Output: True\n"
   ]
  },
  {
   "cell_type": "markdown",
   "id": "bf8374a3-5458-4258-af06-7a47d42521d5",
   "metadata": {},
   "source": [
    "This function recursively checks if the given string can be segmented by trying all possible prefixes from the dictionary. The base case is an empty string, which is always considered segmented. The function returns True if a valid segmentation is found and False otherwise."
   ]
  },
  {
   "cell_type": "markdown",
   "id": "05d37b88-21bb-4a8a-ade3-1f051b663fb0",
   "metadata": {},
   "source": [
    "Problem 10 : N-Queens\n",
    "Implement a recursive function to solve the N Queens problem, where you have to place N queens on an N×N\n",
    "chessboard in such a way that no two queens threaten each other.\n",
    "n_queens(4)\n",
    "[\n",
    "[\".Q..\",\n",
    "\"...Q\",\n",
    "\"Q...\",\n",
    "\"..Q.\"],\n",
    "[\"..Q.\",\n",
    "\"Q...\",\n",
    "\"...Q\",\n",
    "\".Q..\"]\n",
    "]"
   ]
  },
  {
   "cell_type": "markdown",
   "id": "901ea609-c78a-4b06-be71-f7393996b263",
   "metadata": {},
   "source": [
    "\n",
    "Certainly! Solving the N-Queens problem involves placing N queens on an N×N chessboard in such a way that no two queens threaten each other. Here's a recursive Python function to generate solutions for the N-Queens problem:"
   ]
  },
  {
   "cell_type": "code",
   "execution_count": 12,
   "id": "4450bdcf-153c-45c9-b55f-0d2486ceb3bb",
   "metadata": {},
   "outputs": [
    {
     "name": "stdout",
     "output_type": "stream",
     "text": [
      "['.Q..', '...Q', 'Q...', '..Q.']\n",
      "['..Q.', 'Q...', '...Q', '.Q..']\n"
     ]
    }
   ],
   "source": [
    "def is_safe(board, row, col, n):\n",
    "    # Check if there is a queen in the same column\n",
    "    for i in range(row):\n",
    "        if board[i][col] == 'Q':\n",
    "            return False\n",
    "\n",
    "    # Check if there is a queen in the left diagonal\n",
    "    for i, j in zip(range(row, -1, -1), range(col, -1, -1)):\n",
    "        if board[i][j] == 'Q':\n",
    "            return False\n",
    "\n",
    "    # Check if there is a queen in the right diagonal\n",
    "    for i, j in zip(range(row, -1, -1), range(col, n)):\n",
    "        if board[i][j] == 'Q':\n",
    "            return False\n",
    "\n",
    "    return True\n",
    "\n",
    "def solve_n_queens_util(board, row, n, result):\n",
    "    if row == n:\n",
    "        result.append([\"\".join(row) for row in board])\n",
    "        return\n",
    "\n",
    "    for col in range(n):\n",
    "        if is_safe(board, row, col, n):\n",
    "            board[row][col] = 'Q'\n",
    "            solve_n_queens_util(board, row + 1, n, result)\n",
    "            board[row][col] = '.'\n",
    "\n",
    "def solve_n_queens(n):\n",
    "    board = [['.' for _ in range(n)] for _ in range(n)]\n",
    "    result = []\n",
    "    solve_n_queens_util(board, 0, n, result)\n",
    "    return result\n",
    "\n",
    "# Example usage:\n",
    "result = solve_n_queens(4)\n",
    "for solution in result:\n",
    "    print(solution)\n"
   ]
  },
  {
   "cell_type": "markdown",
   "id": "cdaaf649-60aa-4b62-93f2-de06d4e0a51c",
   "metadata": {},
   "source": [
    "This code defines a function solve_n_queens that returns a list of all possible solutions for placing N queens on an N×N chessboard. The is_safe function checks if it's safe to place a queen in a particular position, and solve_n_queens_util is a helper function that explores all possible configurations recursively."
   ]
  },
  {
   "cell_type": "code",
   "execution_count": 13,
   "id": "2fa06a48-6fa3-42aa-b414-d72ba38f8ab4",
   "metadata": {},
   "outputs": [],
   "source": [
    "#complete assignment"
   ]
  },
  {
   "cell_type": "code",
   "execution_count": null,
   "id": "69edfa1c-a4dc-44b5-a16a-5ed8df78f8e8",
   "metadata": {},
   "outputs": [],
   "source": []
  }
 ],
 "metadata": {
  "kernelspec": {
   "display_name": "Python 3 (ipykernel)",
   "language": "python",
   "name": "python3"
  },
  "language_info": {
   "codemirror_mode": {
    "name": "ipython",
    "version": 3
   },
   "file_extension": ".py",
   "mimetype": "text/x-python",
   "name": "python",
   "nbconvert_exporter": "python",
   "pygments_lexer": "ipython3",
   "version": "3.11.5"
  }
 },
 "nbformat": 4,
 "nbformat_minor": 5
}
